{
 "cells": [
  {
   "cell_type": "code",
   "execution_count": 771,
   "id": "6a08ed82",
   "metadata": {
    "cellId": "uv5se4e2oij5y5nowzvyoj"
   },
   "outputs": [],
   "source": [
    "import tensorflow as tf\n",
    "import matplotlib.pyplot as plt\n",
    "import numpy as np\n",
    "import pandas as pd\n",
    "import openpyxl\n",
    "\n",
    "%matplotlib inline"
   ]
  },
  {
   "cell_type": "code",
   "execution_count": 772,
   "id": "811a6fbf",
   "metadata": {
    "cellId": "x3gv9jj27u9gm2f9vil3"
   },
   "outputs": [
    {
     "name": "stdout",
     "output_type": "stream",
     "text": [
      "Defaulting to user installation because normal site-packages is not writeable\n",
      "Requirement already satisfied: openpyxl in /home/jupyter/.local/lib/python3.8/site-packages (3.0.9)\n",
      "Requirement already satisfied: et-xmlfile in /home/jupyter/.local/lib/python3.8/site-packages (from openpyxl) (1.1.0)\n",
      "\u001b[33mWARNING: You are using pip version 21.3.1; however, version 22.1.2 is available.\n",
      "You should consider upgrading via the '/usr/local/bin/python3 -m pip install --upgrade pip' command.\u001b[0m\n"
     ]
    }
   ],
   "source": [
    "%pip install openpyxl"
   ]
  },
  {
   "cell_type": "code",
   "execution_count": 773,
   "id": "04861f18",
   "metadata": {
    "cellId": "lll1857v1iadmtxpc8a3kg"
   },
   "outputs": [],
   "source": [
    "culturies = ['залежь', 'соя', 'гречиха', 'овёс', 'пар', 'сенокос',\n",
    "             'сорняки', 'пастбище', 'кукуруза', 'многолетние травы']"
   ]
  },
  {
   "cell_type": "code",
   "execution_count": 774,
   "id": "f39be1c2",
   "metadata": {
    "cellId": "q23eek4linf02jtxsdvpeas"
   },
   "outputs": [],
   "source": [
    "f = open('Поля по индексам.txt', 'r', encoding='utf8')\n",
    "fields = {}\n",
    "for i in list(map(str.strip, f.readlines())):\n",
    "    t = i\n",
    "    if t[-1] == ',':\n",
    "        t = t[:(len(t) - 1)]\n",
    "    t = t.split(': ')\n",
    "    fields[t[1]] = t[0]\n",
    "f.close()"
   ]
  },
  {
   "cell_type": "code",
   "execution_count": 775,
   "id": "c0c6732e",
   "metadata": {
    "cellId": "ibparyzy45elup7psf1cks"
   },
   "outputs": [
    {
     "name": "stdout",
     "output_type": "stream",
     "text": [
      "['поле-трава', '2021']\n",
      "missing 2 соя\n",
      "missing 10a гречиха\n",
      "missing 49_1   соя\n",
      "missing 49_2 сорняки\n",
      "missing 87_1 пар\n",
      "missing 87_2 пар\n",
      "missing 93_1 гречиха\n",
      "missing 93_2 пар\n",
      "missing 97_1 гречиха\n",
      "missing 97_2 соя\n",
      "missing 194 соя\n",
      "missing 195 соя\n"
     ]
    }
   ],
   "source": [
    "excel_file = openpyxl.load_workbook('Поля_классификация.xlsx')\n",
    "\n",
    "print(excel_file.sheetnames)\n",
    "w_sheet = excel_file['поле-трава']\n",
    "for x in range(1, w_sheet.max_row):\n",
    "    try:\n",
    "        fields[str(w_sheet.cell(row=x, column=1).value)] = [fields[str(w_sheet.cell(row=x, column=1).value)], w_sheet.cell(row=x, column=2).value]\n",
    "    except Exception:\n",
    "        print('missing', w_sheet.cell(row=x, column=1).value, w_sheet.cell(row=x, column=2).value)\n",
    "    #print(w_sheet.cell(row=x, column=1).value, w_sheet.cell(row=x, column=2).value)"
   ]
  },
  {
   "cell_type": "code",
   "execution_count": 776,
   "id": "0e291119",
   "metadata": {
    "cellId": "ixvbpe64mugs3a9x6tdsta"
   },
   "outputs": [
    {
     "name": "stdout",
     "output_type": "stream",
     "text": [
      "deleted 19b\n",
      "deleted 97a\n",
      "deleted 97\n",
      "deleted 93b\n",
      "deleted 93a\n",
      "deleted 49a\n",
      "deleted 49b\n",
      "deleted 87a\n",
      "deleted 87b\n",
      "deleted 194b\n",
      "deleted 194a\n",
      "deleted 201a\n",
      "deleted 204c\n",
      "deleted 204a\n",
      "deleted 48\n",
      "deleted 204b\n",
      "deleted 202b\n",
      "deleted 202a\n",
      "deleted 203b\n",
      "deleted 203a\n",
      "deleted 201b\n",
      "deleted 166\n",
      "deleted 64\n",
      "deleted 85\n",
      "deleted 167\n",
      "deleted 10\n"
     ]
    }
   ],
   "source": [
    "for i in list(fields.keys()):\n",
    "    if type(fields[i]) == str:\n",
    "        print('deleted', i)\n",
    "        del fields[i]\n",
    "for i in fields:\n",
    "    fields[i][1] = culturies.index(fields[i][1].strip())"
   ]
  },
  {
   "cell_type": "code",
   "execution_count": 777,
   "id": "7fd83039",
   "metadata": {
    "cellId": "vj8sf3z6f4cjbv1is6k0t"
   },
   "outputs": [],
   "source": [
    "def data_load(name):\n",
    "    global fields\n",
    "    file = f'data/NDVI_{fields[name][0]}.xlsx'\n",
    "    xl = pd.ExcelFile(file, engine='openpyxl')\n",
    "    file = xl.parse('Cl--1')\n",
    "    file = file.drop(file.columns[:2], axis='columns')\n",
    "    #file = file.dropna(axis=1, thresh=25)\n",
    "    file = file.interpolate(axis=1)\n",
    "    file = file.drop(file.columns[:1], axis='columns')\n",
    "    file = file.drop(file.columns[-1], axis='columns')\n",
    "    type_vector = np.array([fields[name][1] for _ in range(len(file.index))], dtype='int32')\n",
    "    #file.insert(37, 'type', value=s[name][1])\n",
    "    return file, type_vector"
   ]
  },
  {
   "cell_type": "markdown",
   "id": "9af7c710",
   "metadata": {
    "cellId": "qcxx3jpqr4l3m5zyzi74w5"
   },
   "source": [
    "**Поклеточный вариант**"
   ]
  },
  {
   "cell_type": "code",
   "execution_count": 778,
   "id": "ad379d22",
   "metadata": {
    "cellId": "4946jl0tss6g4p84twpoq"
   },
   "outputs": [],
   "source": [
    "#!g1.1\n",
    "fields_full = pd.DataFrame()\n",
    "labels_full = np.array([], dtype='int32')"
   ]
  },
  {
   "cell_type": "code",
   "execution_count": 779,
   "id": "5b39db8a",
   "metadata": {
    "cellId": "tla3s5orro9rdkie54ij"
   },
   "outputs": [
    {
     "name": "stdout",
     "output_type": "stream",
     "text": [
      "error '0' 161c\n",
      "ok 161b\n",
      "error '2' 161a\n",
      "ok 19a\n",
      "ok 12\n",
      "ok 9\n",
      "ok 111\n",
      "ok 91\n",
      "ok 92\n",
      "ok 106\n",
      "error '19' 72\n",
      "ok 73\n",
      "ok 44\n",
      "ok 43\n",
      "ok 42\n",
      "ok 90\n",
      "ok 86\n",
      "ok 165\n",
      "ok 110\n",
      "ok 115\n",
      "error '31' 116\n",
      "ok 6\n",
      "ok 1\n",
      "ok 7\n",
      "ok 11a\n",
      "ok 11b\n",
      "ok 13\n",
      "ok 20\n",
      "ok 35\n",
      "ok 36\n",
      "ok 41\n",
      "ok 104\n",
      "ok 136\n",
      "ok 143\n",
      "error '48' 144\n",
      "error '49' 145\n",
      "ok 153\n",
      "ok 154\n",
      "ok 155\n",
      "ok 156\n",
      "ok 157\n",
      "ok 238\n",
      "ok 22\n",
      "ok 34\n",
      "ok 52\n",
      "ok 53\n",
      "ok 59\n",
      "error '64' 58\n",
      "ok 4\n",
      "ok 74\n",
      "ok 117\n",
      "ok 118\n",
      "ok 10b\n",
      "ok 89\n",
      "ok 127\n",
      "ok 133\n",
      "ok 29\n",
      "ok 5\n",
      "ok 27\n",
      "ok 141\n",
      "ok 79\n",
      "ok 196\n",
      "error '85' 107\n",
      "ok 180\n",
      "error '87' 78\n",
      "ok 76\n",
      "ok 150\n",
      "ok 176\n",
      "ok 164\n",
      "error '93' 99\n",
      "ok 28\n",
      "ok 175\n",
      "ok 23\n",
      "error '97' 237\n",
      "ok 171\n",
      "ok 170\n",
      "ok 14\n",
      "ok 25\n",
      "ok 121\n",
      "ok 16\n",
      "error '105' 184\n",
      "ok 135\n",
      "ok 18\n",
      "ok 183\n",
      "ok 47\n",
      "ok 234\n",
      "ok 197\n",
      "ok 158\n",
      "error '113' 173\n",
      "ok 128\n",
      "ok 124\n",
      "ok 191\n",
      "ok 69\n",
      "ok 148\n",
      "ok 61\n",
      "ok 66\n",
      "ok 17\n",
      "ok 82\n",
      "ok 168\n",
      "ok 60\n",
      "ok 71\n",
      "ok 101\n",
      "ok 62\n",
      "ok 109\n",
      "ok 125\n",
      "ok 137\n",
      "ok 81\n",
      "ok 126\n",
      "error '134' 45\n",
      "ok 119\n",
      "ok 186\n",
      "ok 181\n",
      "ok 199\n",
      "ok 138\n",
      "ok 88\n",
      "ok 15\n",
      "ok 55\n",
      "ok 94\n",
      "ok 172\n",
      "ok 26\n",
      "ok 160\n",
      "ok 114\n",
      "ok 140\n",
      "ok 235\n",
      "ok 8\n",
      "ok 84\n",
      "ok 56\n",
      "ok 132\n",
      "ok 21\n",
      "ok 152\n",
      "ok 174\n",
      "ok 75\n",
      "ok 192\n",
      "error '159' 95\n",
      "ok 123\n",
      "error '161' 147\n",
      "ok 70\n",
      "ok 39\n",
      "ok 122\n",
      "ok 100\n",
      "error '166' 193\n",
      "error '167' 54\n",
      "ok 151\n",
      "ok 103\n",
      "ok 129\n",
      "ok 233\n",
      "ok 57\n",
      "ok 102\n",
      "ok 139\n",
      "ok 63\n",
      "ok 198\n",
      "ok 37\n",
      "ok 40\n",
      "ok 67\n",
      "ok 163\n",
      "ok 162\n",
      "error [Errno 2] No such file or directory: 'data/NDVI_108.xlsx' 38\n",
      "ok 50\n",
      "ok 131\n",
      "ok 146\n",
      "error '187' 3\n",
      "error '188' 142\n",
      "error '189' 30\n",
      "ok 120\n",
      "ok 182\n",
      "ok 177\n",
      "ok 46\n",
      "error '194' 190\n",
      "error '195' 98\n",
      "ok 96\n",
      "ok 112\n",
      "ok 179\n",
      "ok 24\n",
      "error '200' 236\n",
      "error '201' 185\n",
      "error '202' 68\n",
      "error '203' 83\n",
      "error '205' 232\n",
      "error '206' 178\n",
      "error '207' 32\n",
      "error '208' 149\n",
      "error '209' 51\n",
      "error '210' 169\n",
      "error '211' 130\n",
      "error '212' 80\n",
      "error '213' 65\n",
      "error '215' 77\n",
      "error '216' 108\n"
     ]
    }
   ],
   "source": [
    "#!g1.1\n",
    "for field in fields:\n",
    "    try:\n",
    "        field_params, labels = data_load(fields[field][0])\n",
    "        fields_full = fields_full.append(field_params)\n",
    "        labels_full = np.append(labels_full, labels)\n",
    "        print('ok', field)\n",
    "    except Exception as ex:\n",
    "        print('error', ex, field)"
   ]
  },
  {
   "cell_type": "code",
   "execution_count": 780,
   "id": "5e90d6be",
   "metadata": {
    "cellId": "czk6fxowhy2gusjhp38u"
   },
   "outputs": [],
   "source": [
    "#!g1.1\n",
    "labels_full = tf.keras.utils.to_categorical(labels_full)"
   ]
  },
  {
   "cell_type": "code",
   "execution_count": 715,
   "id": "ce41bca8",
   "metadata": {
    "cellId": "gg3iuuoa1bmpdqj3rwdz3s"
   },
   "outputs": [],
   "source": [
    "#!g1.1\n",
    "fields_full_ten = tf.convert_to_tensor(fields_full)"
   ]
  },
  {
   "cell_type": "code",
   "execution_count": 781,
   "id": "16ff1e04",
   "metadata": {
    "cellId": "7jyatnzjl6kydvqr3l935"
   },
   "outputs": [],
   "source": [
    "#!g1.1\n",
    "from sklearn.model_selection import train_test_split\n",
    "\n",
    "train_fields, test_fields, train_labels, test_labels = train_test_split(fields_full, labels_full, test_size=0.09)\n",
    "train_fields, val_fields, train_labels, val_labels = train_test_split(train_fields, train_labels, test_size=0.015)"
   ]
  },
  {
   "cell_type": "code",
   "execution_count": 783,
   "id": "e6c9648e",
   "metadata": {
    "cellId": "hcit3g917p9zke9yps08v"
   },
   "outputs": [
    {
     "name": "stderr",
     "output_type": "stream",
     "text": [
      "/kernel/lib/python3.8/site-packages/ml_kernel/kernel.py:864: UserWarning: The following variables cannot be serialized: train_dataset, val_dataset\n",
      "  warnings.warn(message)\n"
     ]
    }
   ],
   "source": [
    "#!g1.1\n",
    "batch_size = 32\n",
    "\n",
    "train_dataset = tf.data.Dataset.from_tensor_slices((train_fields, train_labels))\n",
    "train_dataset = train_dataset.shuffle(buffer_size=1024, reshuffle_each_iteration=True).batch(batch_size)\n",
    "#train_dataset = train_dataset.prefetch(1)\n",
    "\n",
    "val_dataset = tf.data.Dataset.from_tensor_slices((val_fields, val_labels))\n",
    "val_dataset = val_dataset.batch(batch_size)\n",
    "#val_dataset = val_dataset.prefetch(1)"
   ]
  },
  {
   "cell_type": "code",
   "execution_count": 784,
   "id": "16e80fbd",
   "metadata": {
    "cellId": "0tkoyp91zpu1wl3viqo62d"
   },
   "outputs": [
    {
     "name": "stderr",
     "output_type": "stream",
     "text": [
      "/kernel/lib/python3.8/site-packages/ml_kernel/kernel.py:864: UserWarning: The following variables cannot be serialized: train_dataset, val_dataset\n",
      "  warnings.warn(message)\n"
     ]
    }
   ],
   "source": [
    "#!g1.1\n",
    "sample_x, sample_y = next(iter(train_dataset))"
   ]
  },
  {
   "cell_type": "code",
   "execution_count": 797,
   "id": "233f3c3c",
   "metadata": {
    "cellId": "ea9boxio5fa6lomhrmozh"
   },
   "outputs": [
    {
     "name": "stdout",
     "output_type": "stream",
     "text": [
      "Model: \"sequential_2\"\n",
      "_________________________________________________________________\n",
      "Layer (type)                 Output Shape              Param #   \n",
      "=================================================================\n",
      "layer_4 (Dense)              (None, 64)                2304      \n",
      "_________________________________________________________________\n",
      "output (Dense)               (None, 10)                650       \n",
      "=================================================================\n",
      "Total params: 2,954\n",
      "Trainable params: 2,954\n",
      "Non-trainable params: 0\n",
      "_________________________________________________________________\n"
     ]
    }
   ],
   "source": [
    "#!g1.1\n",
    "from tensorflow.keras import layers\n",
    "\n",
    "\n",
    "# dense_model_2 = tf.keras.Sequential([\n",
    "#     tf.keras.layers.Input(shape=(37, ), name='Input_1'),\n",
    "#    # tf.keras.layers.Dropout(0.2),\n",
    "#     tf.keras.layers.Dense(2048, activation='relu', name='layer_1'),\n",
    "#     tf.keras.layers.Dropout(0.2),\n",
    "#     tf.keras.layers.BatchNormalization(),\n",
    "#     tf.keras.layers.Dense(512, activation='relu', name='layer_2'),\n",
    "#     tf.keras.layers.Dropout(0.1),\n",
    "#     tf.keras.layers.BatchNormalization(),\n",
    "#     tf.keras.layers.Dense(256, activation='relu', name='layer_3'),\n",
    "#     tf.keras.layers.Dropout(0.1),\n",
    "#     tf.keras.layers.BatchNormalization(),\n",
    "#     tf.keras.layers.Dense(64, activation='relu', name='layer_4'),\n",
    "#     tf.keras.layers.Dropout(0.1),\n",
    "#     tf.keras.layers.BatchNormalization(),\n",
    "#     tf.keras.layers.Dense(10, activation='softmax', name='output')\n",
    "# ])\n",
    "dense_model_1 = tf.keras.Sequential([\n",
    "    tf.keras.Input(shape=(35,)),\n",
    "    tf.keras.layers.Dense(64, activation='relu', name='layer_4'),\n",
    "    tf.keras.layers.Dense(10, activation='softmax', name='output')\n",
    "])\n",
    "dense_model_1.compile(\n",
    "    optimizer='adam',\n",
    "    loss=tf.keras.losses.CategoricalCrossentropy(from_logits=True),\n",
    "    metrics=['accuracy'])\n",
    "dense_model_1.summary()"
   ]
  },
  {
   "cell_type": "code",
   "execution_count": 798,
   "id": "c7ac883b",
   "metadata": {
    "cellId": "amf8mg2aeollnjf9wvntv"
   },
   "outputs": [
    {
     "name": "stdout",
     "output_type": "stream",
     "text": [
      "tf.Tensor(\n",
      "[[0.23696072 0.25145483 0.29169157 ... 0.44507575 0.36944342 0.38934803]\n",
      " [0.20345546 0.20599666 0.23072594 ... 0.46897092 0.43104872 0.44280967]\n",
      " [0.21831205 0.23016591 0.24194035 ... 0.42103592 0.47687963 0.41754124]\n",
      " ...\n",
      " [0.24057971 0.23144996 0.24712643 ... 0.25067204 0.22155689 0.22749715]\n",
      " [0.17889772 0.1995547  0.20532623 ... 0.4935123  0.59588712 0.57389349]\n",
      " [0.21363206 0.22424956 0.2430279  ... 0.13005172 0.2446873  0.2520676 ]], shape=(32, 35), dtype=float64)\n",
      "tf.Tensor(\n",
      "[[0. 0. 0. 0. 1. 0. 0. 0. 0. 0.]\n",
      " [1. 0. 0. 0. 0. 0. 0. 0. 0. 0.]\n",
      " [1. 0. 0. 0. 0. 0. 0. 0. 0. 0.]\n",
      " [0. 0. 0. 0. 0. 0. 0. 0. 0. 1.]\n",
      " [0. 0. 0. 0. 1. 0. 0. 0. 0. 0.]\n",
      " [1. 0. 0. 0. 0. 0. 0. 0. 0. 0.]\n",
      " [1. 0. 0. 0. 0. 0. 0. 0. 0. 0.]\n",
      " [0. 1. 0. 0. 0. 0. 0. 0. 0. 0.]\n",
      " [0. 0. 0. 0. 1. 0. 0. 0. 0. 0.]\n",
      " [0. 0. 0. 0. 1. 0. 0. 0. 0. 0.]\n",
      " [0. 1. 0. 0. 0. 0. 0. 0. 0. 0.]\n",
      " [1. 0. 0. 0. 0. 0. 0. 0. 0. 0.]\n",
      " [0. 0. 0. 0. 0. 0. 1. 0. 0. 0.]\n",
      " [0. 1. 0. 0. 0. 0. 0. 0. 0. 0.]\n",
      " [1. 0. 0. 0. 0. 0. 0. 0. 0. 0.]\n",
      " [0. 1. 0. 0. 0. 0. 0. 0. 0. 0.]\n",
      " [0. 1. 0. 0. 0. 0. 0. 0. 0. 0.]\n",
      " [0. 0. 0. 0. 0. 1. 0. 0. 0. 0.]\n",
      " [1. 0. 0. 0. 0. 0. 0. 0. 0. 0.]\n",
      " [1. 0. 0. 0. 0. 0. 0. 0. 0. 0.]\n",
      " [1. 0. 0. 0. 0. 0. 0. 0. 0. 0.]\n",
      " [0. 0. 0. 0. 0. 0. 1. 0. 0. 0.]\n",
      " [0. 1. 0. 0. 0. 0. 0. 0. 0. 0.]\n",
      " [1. 0. 0. 0. 0. 0. 0. 0. 0. 0.]\n",
      " [0. 1. 0. 0. 0. 0. 0. 0. 0. 0.]\n",
      " [0. 1. 0. 0. 0. 0. 0. 0. 0. 0.]\n",
      " [1. 0. 0. 0. 0. 0. 0. 0. 0. 0.]\n",
      " [0. 1. 0. 0. 0. 0. 0. 0. 0. 0.]\n",
      " [0. 1. 0. 0. 0. 0. 0. 0. 0. 0.]\n",
      " [0. 0. 0. 1. 0. 0. 0. 0. 0. 0.]\n",
      " [0. 0. 0. 0. 0. 0. 0. 0. 0. 1.]\n",
      " [0. 0. 0. 0. 0. 1. 0. 0. 0. 0.]], shape=(32, 10), dtype=float32)\n",
      "[[0.10570445 0.21465135 0.05871213 0.06675883 0.05030825 0.03640882\n",
      "  0.08172436 0.16772261 0.14205565 0.07595352]\n",
      " [0.10546672 0.23334531 0.06187395 0.06255665 0.04419217 0.03511322\n",
      "  0.07663407 0.16017199 0.14558811 0.07505777]\n",
      " [0.10641899 0.23146968 0.05844515 0.06385128 0.04581645 0.03610604\n",
      "  0.07818273 0.16112748 0.14470488 0.07387735]\n",
      " [0.10727307 0.2202642  0.05564395 0.06510483 0.0457269  0.03888997\n",
      "  0.08796087 0.15920463 0.14715062 0.07278096]\n",
      " [0.103369   0.18065211 0.07487566 0.07738014 0.05797533 0.04878508\n",
      "  0.08967527 0.15014602 0.12991953 0.08722179]\n",
      " [0.09986645 0.22475022 0.06131553 0.06604119 0.0465418  0.03564178\n",
      "  0.08027181 0.17149048 0.14205031 0.07203049]\n",
      " [0.11429133 0.22715665 0.05954515 0.06740031 0.04895471 0.04802638\n",
      "  0.0819585  0.1398681  0.13668539 0.07611348]\n",
      " [0.12024897 0.19669268 0.06623628 0.06963834 0.06634406 0.05240867\n",
      "  0.07265845 0.13804427 0.13343263 0.08429563]\n",
      " [0.09503773 0.19065258 0.06591686 0.07560959 0.05611214 0.04189365\n",
      "  0.08453438 0.18389285 0.12857473 0.07777552]\n",
      " [0.09830108 0.1896369  0.07108571 0.07415078 0.05637323 0.04245316\n",
      "  0.08864475 0.17092639 0.1290327  0.0793952 ]\n",
      " [0.10354296 0.22516707 0.06738545 0.06207392 0.05220373 0.03625644\n",
      "  0.0671702  0.15376431 0.15161748 0.08081844]\n",
      " [0.10271411 0.2283047  0.06357595 0.06416025 0.04341853 0.03600962\n",
      "  0.07863167 0.16758524 0.14165927 0.07394063]\n",
      " [0.10494351 0.2027266  0.06696053 0.06789996 0.05260613 0.04070161\n",
      "  0.0788857  0.1761591  0.13425733 0.07485956]\n",
      " [0.12803052 0.21935779 0.06103526 0.0635326  0.06001453 0.04666968\n",
      "  0.06769056 0.13624877 0.13640915 0.08101109]\n",
      " [0.10422704 0.21424036 0.06783267 0.06836572 0.05090069 0.0434325\n",
      "  0.08195302 0.15678042 0.13573487 0.07653271]\n",
      " [0.13035102 0.24664833 0.04601006 0.05148065 0.04965    0.03037143\n",
      "  0.07172825 0.16347036 0.13963315 0.07065676]\n",
      " [0.12073009 0.2217632  0.05991581 0.05920134 0.05435463 0.04105001\n",
      "  0.07269733 0.14910002 0.14397389 0.07721359]\n",
      " [0.10125194 0.19717093 0.06724963 0.07268821 0.05130634 0.04098365\n",
      "  0.08865664 0.16749571 0.13191251 0.08128443]\n",
      " [0.1046238  0.2314919  0.0575861  0.06629666 0.04729277 0.03574876\n",
      "  0.0758925  0.15647465 0.1494397  0.07515316]\n",
      " [0.10514916 0.23657714 0.05953144 0.06355831 0.04518123 0.03550714\n",
      "  0.07628983 0.16131577 0.14250098 0.07438902]\n",
      " [0.10476532 0.2453517  0.05451427 0.06400462 0.04723604 0.03540336\n",
      "  0.07862417 0.1717587  0.13189468 0.06644725]\n",
      " [0.09644539 0.16945049 0.06720959 0.07746836 0.06841538 0.05099005\n",
      "  0.10113277 0.15886168 0.13240802 0.07761825]\n",
      " [0.10989358 0.2296909  0.06587967 0.057298   0.05297058 0.04456144\n",
      "  0.06778783 0.15614676 0.13473265 0.08103855]\n",
      " [0.11371265 0.23671712 0.05074676 0.06186542 0.04748334 0.03237719\n",
      "  0.07508182 0.15765679 0.15390362 0.07045531]\n",
      " [0.11656924 0.23264365 0.06289365 0.05747512 0.05175633 0.03845706\n",
      "  0.06782947 0.14176254 0.1509857  0.07962727]\n",
      " [0.11172892 0.23455106 0.06103852 0.06043541 0.04959096 0.03604037\n",
      "  0.0728784  0.160953   0.13761944 0.0751639 ]\n",
      " [0.10373804 0.21624912 0.0672266  0.06587713 0.04842073 0.03931376\n",
      "  0.07908583 0.16497235 0.14005081 0.0750657 ]\n",
      " [0.09659682 0.18912555 0.08033577 0.0750552  0.05342437 0.04571597\n",
      "  0.07622467 0.1597441  0.1375186  0.08625889]\n",
      " [0.11758666 0.22165307 0.07161518 0.05970766 0.05659125 0.04258527\n",
      "  0.0641478  0.14185816 0.14353709 0.08071785]\n",
      " [0.09881449 0.1669029  0.07694971 0.08205611 0.06415644 0.05401707\n",
      "  0.09481077 0.15441757 0.12135667 0.08651834]\n",
      " [0.10201551 0.22163886 0.05110532 0.06924888 0.0484033  0.04130092\n",
      "  0.08825119 0.16488191 0.14110042 0.07205369]\n",
      " [0.10102335 0.18343416 0.07233836 0.08135998 0.05862065 0.05091856\n",
      "  0.08810741 0.14617243 0.13343515 0.08459002]]\n",
      "(32, 10) (32, 10)\n"
     ]
    },
    {
     "data": {
      "text/plain": [
       "2.1920133"
      ]
     },
     "execution_count": 798,
     "metadata": {},
     "output_type": "execute_result"
    },
    {
     "name": "stderr",
     "output_type": "stream",
     "text": [
      "/kernel/lib/python3.8/site-packages/ml_kernel/kernel.py:864: UserWarning: The following variables cannot be serialized: train_dataset, val_dataset\n",
      "  warnings.warn(message)\n"
     ]
    }
   ],
   "source": [
    "#!g1.1\n",
    "sample_x, sample_y = next(iter(train_dataset))\n",
    "print(sample_x)\n",
    "print(sample_y)\n",
    "print(dense_model_1.predict(sample_x))\n",
    "print(sample_y.shape, dense_model_1.predict(sample_x).shape)\n",
    "tt = tf.keras.losses.CategoricalCrossentropy()\n",
    "tt(\n",
    "    sample_y, dense_model_1.predict(sample_x)\n",
    ").numpy()"
   ]
  },
  {
   "cell_type": "code",
   "execution_count": 787,
   "id": "3da7210d",
   "metadata": {
    "cellId": "f7u4k54prg8q5kcum2knr"
   },
   "outputs": [],
   "source": [
    "#!g1.1\n",
    "from livelossplot import PlotLossesKeras"
   ]
  },
  {
   "cell_type": "code",
   "execution_count": 799,
   "id": "f56f3940",
   "metadata": {
    "cellId": "65qav3xmfvesatqcd13p3h"
   },
   "outputs": [
    {
     "data": {
      "image/png": "[encoded data removed]",
      "text/plain": [
       "<Figure size 864x576 with 2 Axes>"
      ]
     },
     "metadata": {
      "needs_background": "light"
     },
     "output_type": "display_data"
    },
    {
     "name": "stdout",
     "output_type": "stream",
     "text": [
      "accuracy\n",
      "\ttraining         \t (min:    0.447, max:    0.447, cur:    0.447)\n",
      "\tvalidation       \t (min:    0.450, max:    0.450, cur:    0.450)\n",
      "Loss\n",
      "\ttraining         \t (min:      nan, max:      nan, cur:      nan)\n",
      "\tvalidation       \t (min:      nan, max:      nan, cur:      nan)\n"
     ]
    },
    {
     "ename": "KeyboardInterrupt",
     "evalue": "",
     "output_type": "error",
     "traceback": [
      "\u001b[0;31m---------------------------------------------------------------------------\u001b[0m",
      "\u001b[0;31mKeyboardInterrupt\u001b[0m                         Traceback (most recent call last)",
      "\u001b[0;32m<ipython-input-22-6cf9d96eb36f>\u001b[0m in \u001b[0;36m<module>\u001b[0;34m\u001b[0m\n\u001b[0;32m----> 1\u001b[0;31m \u001b[0mdense_model_1_history\u001b[0m \u001b[0;34m=\u001b[0m \u001b[0mdense_model_1\u001b[0m\u001b[0;34m.\u001b[0m\u001b[0mfit\u001b[0m\u001b[0;34m(\u001b[0m\u001b[0mtrain_dataset\u001b[0m\u001b[0;34m,\u001b[0m \u001b[0mvalidation_data\u001b[0m\u001b[0;34m=\u001b[0m\u001b[0mval_dataset\u001b[0m\u001b[0;34m,\u001b[0m \u001b[0mepochs\u001b[0m\u001b[0;34m=\u001b[0m\u001b[0;36m50\u001b[0m\u001b[0;34m,\u001b[0m \u001b[0mcallbacks\u001b[0m\u001b[0;34m=\u001b[0m\u001b[0;34m[\u001b[0m\u001b[0mPlotLossesKeras\u001b[0m\u001b[0;34m(\u001b[0m\u001b[0;34m)\u001b[0m\u001b[0;34m]\u001b[0m\u001b[0;34m,\u001b[0m \u001b[0mverbose\u001b[0m\u001b[0;34m=\u001b[0m\u001b[0;32mFalse\u001b[0m\u001b[0;34m)\u001b[0m\u001b[0;34m\u001b[0m\u001b[0;34m\u001b[0m\u001b[0m\n\u001b[0m\u001b[1;32m      2\u001b[0m \u001b[0;31m#\u001b[0m\u001b[0;34m\u001b[0m\u001b[0;34m\u001b[0m\u001b[0;34m\u001b[0m\u001b[0m\n",
      "\u001b[0;32m/usr/local/lib/python3.8/dist-packages/keras/engine/training.py\u001b[0m in \u001b[0;36mfit\u001b[0;34m(self, x, y, batch_size, epochs, verbose, callbacks, validation_split, validation_data, shuffle, class_weight, sample_weight, initial_epoch, steps_per_epoch, validation_steps, validation_batch_size, validation_freq, max_queue_size, workers, use_multiprocessing)\u001b[0m\n\u001b[1;32m   1175\u001b[0m         \u001b[0;32mwith\u001b[0m \u001b[0mdata_handler\u001b[0m\u001b[0;34m.\u001b[0m\u001b[0mcatch_stop_iteration\u001b[0m\u001b[0;34m(\u001b[0m\u001b[0;34m)\u001b[0m\u001b[0;34m:\u001b[0m\u001b[0;34m\u001b[0m\u001b[0;34m\u001b[0m\u001b[0m\n\u001b[1;32m   1176\u001b[0m           \u001b[0;32mfor\u001b[0m \u001b[0mstep\u001b[0m \u001b[0;32min\u001b[0m \u001b[0mdata_handler\u001b[0m\u001b[0;34m.\u001b[0m\u001b[0msteps\u001b[0m\u001b[0;34m(\u001b[0m\u001b[0;34m)\u001b[0m\u001b[0;34m:\u001b[0m\u001b[0;34m\u001b[0m\u001b[0;34m\u001b[0m\u001b[0m\n\u001b[0;32m-> 1177\u001b[0;31m             with tf.profiler.experimental.Trace(\n\u001b[0m\u001b[1;32m   1178\u001b[0m                 \u001b[0;34m'train'\u001b[0m\u001b[0;34m,\u001b[0m\u001b[0;34m\u001b[0m\u001b[0;34m\u001b[0m\u001b[0m\n\u001b[1;32m   1179\u001b[0m                 \u001b[0mepoch_num\u001b[0m\u001b[0;34m=\u001b[0m\u001b[0mepoch\u001b[0m\u001b[0;34m,\u001b[0m\u001b[0;34m\u001b[0m\u001b[0;34m\u001b[0m\u001b[0m\n",
      "\u001b[0;32m/usr/local/lib/python3.8/dist-packages/tensorflow/python/profiler/trace.py\u001b[0m in \u001b[0;36m__init__\u001b[0;34m(self, name, **kwargs)\u001b[0m\n\u001b[1;32m     52\u001b[0m   \"\"\"\n\u001b[1;32m     53\u001b[0m \u001b[0;34m\u001b[0m\u001b[0m\n\u001b[0;32m---> 54\u001b[0;31m   \u001b[0;32mdef\u001b[0m \u001b[0m__init__\u001b[0m\u001b[0;34m(\u001b[0m\u001b[0mself\u001b[0m\u001b[0;34m,\u001b[0m \u001b[0mname\u001b[0m\u001b[0;34m,\u001b[0m \u001b[0;34m**\u001b[0m\u001b[0mkwargs\u001b[0m\u001b[0;34m)\u001b[0m\u001b[0;34m:\u001b[0m\u001b[0;34m\u001b[0m\u001b[0;34m\u001b[0m\u001b[0m\n\u001b[0m\u001b[1;32m     55\u001b[0m     \"\"\"Creates a trace event in the profiler.\n\u001b[1;32m     56\u001b[0m \u001b[0;34m\u001b[0m\u001b[0m\n",
      "\u001b[0;31mKeyboardInterrupt\u001b[0m: "
     ]
    },
    {
     "name": "stderr",
     "output_type": "stream",
     "text": [
      "/kernel/lib/python3.8/site-packages/ml_kernel/kernel.py:864: UserWarning: The following variables cannot be serialized: train_dataset, val_dataset\n",
      "  warnings.warn(message)\n"
     ]
    }
   ],
   "source": [
    "#!g1.1\n",
    "dense_model_1_history = dense_model_1.fit(train_dataset, validation_data=val_dataset, epochs=50, callbacks=[PlotLossesKeras()], verbose=False)"
   ]
  },
  {
   "cell_type": "code",
   "execution_count": null,
   "id": "091c66dc",
   "metadata": {
    "cellId": "80djl3g11b3joamfs2byx"
   },
   "outputs": [],
   "source": [
    "#!g1.1\n",
    "\n",
    "import tensorflow.keras.backend as K\n",
    "s = np.array([0.26759532, 0.24501145, 0.29077518, 0.46137184,\n",
    "        0.49968573, 0.62341863, 0.74873298, 0.79528433, 0.78950748,\n",
    "        0.78373063, 0.80844766, 0.86345834, 0.80966842, 0.50896311,\n",
    "        0.84554458, 0.75138491, 0.77696827, 0.80255163, 0.72150511,\n",
    "        0.78021979, 0.77437407, 0.76066846, 0.74198252, 0.71617162,\n",
    "        0.73163691, 0.7471022 , 0.70007479, 0.65378672, 0.59233016,\n",
    "        0.52363467, 0.46852517, 0.46243024, 0.4334081 , 0.40438595,\n",
    "        0.44469026])\n",
    "# s = K.constant(s)\n",
    "# s = tf.transpose(s)\n",
    "print(s.shape)\n",
    "#s = s.reshape(-1, 37)\n",
    "print(s)\n",
    "dense_model_1.predict(t)"
   ]
  },
  {
   "cell_type": "code",
   "execution_count": 568,
   "id": "c6800587",
   "metadata": {
    "cellId": "vgupoihwjwisb0r7raqzl"
   },
   "outputs": [],
   "source": [
    "#!g1.1\n"
   ]
  }
 ],
 "metadata": {
  "kernelspec": {
   "display_name": "Yandex DataSphere Kernel",
   "language": "python",
   "name": "python3"
  },
  "language_info": {
   "codemirror_mode": {
    "name": "ipython",
    "version": 3
   },
   "file_extension": ".py",
   "mimetype": "text/x-python",
   "name": "python",
   "nbconvert_exporter": "python",
   "pygments_lexer": "ipython3",
   "version": "3.7.7"
  },
  "notebookId": "eb2a8a52-5068-468e-bcce-dc825df98190",
  "notebookPath": "Untitled.ipynb"
 },
 "nbformat": 4,
 "nbformat_minor": 5
}
