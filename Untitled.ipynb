{
 "cells": [
  {
   "cell_type": "code",
   "execution_count": 771,
   "id": "a7d31973",
   "metadata": {
    "cellId": "uv5se4e2oij5y5nowzvyoj"
   },
   "outputs": [],
   "source": [
    "import tensorflow as tf\n",
    "import matplotlib.pyplot as plt\n",
    "import numpy as np\n",
    "import pandas as pd\n",
    "import openpyxl\n",
    "\n",
    "%matplotlib inline"
   ]
  },
  {
   "cell_type": "code",
   "execution_count": 772,
   "id": "f13ac1ff",
   "metadata": {
    "cellId": "x3gv9jj27u9gm2f9vil3"
   },
   "outputs": [
    {
     "name": "stdout",
     "output_type": "stream",
     "text": [
      "Defaulting to user installation because normal site-packages is not writeable\n",
      "Requirement already satisfied: openpyxl in /home/jupyter/.local/lib/python3.8/site-packages (3.0.9)\n",
      "Requirement already satisfied: et-xmlfile in /home/jupyter/.local/lib/python3.8/site-packages (from openpyxl) (1.1.0)\n",
      "\u001b[33mWARNING: You are using pip version 21.3.1; however, version 22.1.2 is available.\n",
      "You should consider upgrading via the '/usr/local/bin/python3 -m pip install --upgrade pip' command.\u001b[0m\n"
     ]
    }
   ],
   "source": [
    "%pip install openpyxl"
   ]
  },
  {
   "cell_type": "code",
   "execution_count": 773,
   "id": "643d7379",
   "metadata": {
    "cellId": "lll1857v1iadmtxpc8a3kg"
   },
   "outputs": [],
   "source": [
    "culturies = ['залежь', 'соя', 'гречиха', 'овёс', 'пар', 'сенокос',\n",
    "             'сорняки', 'пастбище', 'кукуруза', 'многолетние травы']"
   ]
  },
  {
   "cell_type": "code",
   "execution_count": 774,
   "id": "d924a33b",
   "metadata": {
    "cellId": "q23eek4linf02jtxsdvpeas"
   },
   "outputs": [],
   "source": [
    "f = open('Поля по индексам.txt', 'r', encoding='utf8')\n",
    "fields = {}\n",
    "for i in list(map(str.strip, f.readlines())):\n",
    "    t = i\n",
    "    if t[-1] == ',':\n",
    "        t = t[:(len(t) - 1)]\n",
    "    t = t.split(': ')\n",
    "    fields[t[1]] = t[0]\n",
    "f.close()"
   ]
  },
  {
   "cell_type": "code",
   "execution_count": 775,
   "id": "e98a32ee",
   "metadata": {
    "cellId": "ibparyzy45elup7psf1cks"
   },
   "outputs": [
    {
     "name": "stdout",
     "output_type": "stream",
     "text": [
      "['поле-трава', '2021']\n",
      "missing 2 соя\n",
      "missing 10a гречиха\n",
      "missing 49_1   соя\n",
      "missing 49_2 сорняки\n",
      "missing 87_1 пар\n",
      "missing 87_2 пар\n",
      "missing 93_1 гречиха\n",
      "missing 93_2 пар\n",
      "missing 97_1 гречиха\n",
      "missing 97_2 соя\n",
      "missing 194 соя\n",
      "missing 195 соя\n"
     ]
    }
   ],
   "source": [
    "excel_file = openpyxl.load_workbook('Поля_классификация.xlsx')\n",
    "\n",
    "print(excel_file.sheetnames)\n",
    "w_sheet = excel_file['поле-трава']\n",
    "for x in range(1, w_sheet.max_row):\n",
    "    try:\n",
    "        fields[str(w_sheet.cell(row=x, column=1).value)] = [fields[str(w_sheet.cell(row=x, column=1).value)], w_sheet.cell(row=x, column=2).value]\n",
    "    except Exception:\n",
    "        print('missing', w_sheet.cell(row=x, column=1).value, w_sheet.cell(row=x, column=2).value)\n",
    "    #print(w_sheet.cell(row=x, column=1).value, w_sheet.cell(row=x, column=2).value)"
   ]
  },
  {
   "cell_type": "code",
   "execution_count": 776,
   "id": "76c3f26c",
   "metadata": {
    "cellId": "ixvbpe64mugs3a9x6tdsta"
   },
   "outputs": [
    {
     "name": "stdout",
     "output_type": "stream",
     "text": [
      "deleted 19b\n",
      "deleted 97a\n",
      "deleted 97\n",
      "deleted 93b\n",
      "deleted 93a\n",
      "deleted 49a\n",
      "deleted 49b\n",
      "deleted 87a\n",
      "deleted 87b\n",
      "deleted 194b\n",
      "deleted 194a\n",
      "deleted 201a\n",
      "deleted 204c\n",
      "deleted 204a\n",
      "deleted 48\n",
      "deleted 204b\n",
      "deleted 202b\n",
      "deleted 202a\n",
      "deleted 203b\n",
      "deleted 203a\n",
      "deleted 201b\n",
      "deleted 166\n",
      "deleted 64\n",
      "deleted 85\n",
      "deleted 167\n",
      "deleted 10\n"
     ]
    }
   ],
   "source": [
    "for i in list(fields.keys()):\n",
    "    if type(fields[i]) == str:\n",
    "        print('deleted', i)\n",
    "        del fields[i]\n",
    "for i in fields:\n",
    "    fields[i][1] = culturies.index(fields[i][1].strip())"
   ]
  },
  {
   "cell_type": "code",
   "execution_count": 777,
   "id": "da4f70e7",
   "metadata": {
    "cellId": "vj8sf3z6f4cjbv1is6k0t"
   },
   "outputs": [],
   "source": [
    "def data_load(name):\n",
    "    global fields\n",
    "    file = f'data/NDVI_{fields[name][0]}.xlsx'\n",
    "    xl = pd.ExcelFile(file, engine='openpyxl')\n",
    "    file = xl.parse('Cl--1')\n",
    "    file = file.drop(file.columns[:2], axis='columns')\n",
    "    #file = file.dropna(axis=1, thresh=25)\n",
    "    file = file.interpolate(axis=1)\n",
    "    file = file.drop(file.columns[:1], axis='columns')\n",
    "    file = file.drop(file.columns[-1], axis='columns')\n",
    "    type_vector = np.array([fields[name][1] for _ in range(len(file.index))], dtype='int32')\n",
    "    #file.insert(37, 'type', value=s[name][1])\n",
    "    return file, type_vector"
   ]
  },
  {
   "cell_type": "markdown",
   "id": "7b25a1c8",
   "metadata": {
    "cellId": "qcxx3jpqr4l3m5zyzi74w5"
   },
   "source": [
    "**Поклеточный вариант**"
   ]
  },
  {
   "cell_type": "code",
   "execution_count": 778,
   "id": "767f3212",
   "metadata": {
    "cellId": "4946jl0tss6g4p84twpoq"
   },
   "outputs": [],
   "source": [
    "#!g1.1\n",
    "fields_full = pd.DataFrame()\n",
    "labels_full = np.array([], dtype='int32')"
   ]
  },
  {
   "cell_type": "code",
   "execution_count": 779,
   "id": "9282580a",
   "metadata": {
    "cellId": "tla3s5orro9rdkie54ij"
   },
   "outputs": [
    {
     "name": "stdout",
     "output_type": "stream",
     "text": [
      "error '0' 161c\n",
      "ok 161b\n",
      "error '2' 161a\n",
      "ok 19a\n",
      "ok 12\n",
      "ok 9\n",
      "ok 111\n",
      "ok 91\n",
      "ok 92\n",
      "ok 106\n",
      "error '19' 72\n",
      "ok 73\n",
      "ok 44\n",
      "ok 43\n",
      "ok 42\n",
      "ok 90\n",
      "ok 86\n",
      "ok 165\n",
      "ok 110\n",
      "ok 115\n",
      "error '31' 116\n",
      "ok 6\n",
      "ok 1\n",
      "ok 7\n",
      "ok 11a\n",
      "ok 11b\n",
      "ok 13\n",
      "ok 20\n",
      "ok 35\n",
      "ok 36\n",
      "ok 41\n",
      "ok 104\n",
      "ok 136\n",
      "ok 143\n",
      "error '48' 144\n",
      "error '49' 145\n",
      "ok 153\n",
      "ok 154\n",
      "ok 155\n",
      "ok 156\n",
      "ok 157\n",
      "ok 238\n",
      "ok 22\n",
      "ok 34\n",
      "ok 52\n",
      "ok 53\n",
      "ok 59\n",
      "error '64' 58\n",
      "ok 4\n",
      "ok 74\n",
      "ok 117\n",
      "ok 118\n",
      "ok 10b\n",
      "ok 89\n",
      "ok 127\n",
      "ok 133\n",
      "ok 29\n",
      "ok 5\n",
      "ok 27\n",
      "ok 141\n",
      "ok 79\n",
      "ok 196\n",
      "error '85' 107\n",
      "ok 180\n",
      "error '87' 78\n",
      "ok 76\n",
      "ok 150\n",
      "ok 176\n",
      "ok 164\n",
      "error '93' 99\n",
      "ok 28\n",
      "ok 175\n",
      "ok 23\n",
      "error '97' 237\n",
      "ok 171\n",
      "ok 170\n",
      "ok 14\n",
      "ok 25\n",
      "ok 121\n",
      "ok 16\n",
      "error '105' 184\n",
      "ok 135\n",
      "ok 18\n",
      "ok 183\n",
      "ok 47\n",
      "ok 234\n",
      "ok 197\n",
      "ok 158\n",
      "error '113' 173\n",
      "ok 128\n",
      "ok 124\n",
      "ok 191\n",
      "ok 69\n",
      "ok 148\n",
      "ok 61\n",
      "ok 66\n",
      "ok 17\n",
      "ok 82\n",
      "ok 168\n",
      "ok 60\n",
      "ok 71\n",
      "ok 101\n",
      "ok 62\n",
      "ok 109\n",
      "ok 125\n",
      "ok 137\n",
      "ok 81\n",
      "ok 126\n",
      "error '134' 45\n",
      "ok 119\n",
      "ok 186\n",
      "ok 181\n",
      "ok 199\n",
      "ok 138\n",
      "ok 88\n",
      "ok 15\n",
      "ok 55\n",
      "ok 94\n",
      "ok 172\n",
      "ok 26\n",
      "ok 160\n",
      "ok 114\n",
      "ok 140\n",
      "ok 235\n",
      "ok 8\n",
      "ok 84\n",
      "ok 56\n",
      "ok 132\n",
      "ok 21\n",
      "ok 152\n",
      "ok 174\n",
      "ok 75\n",
      "ok 192\n",
      "error '159' 95\n",
      "ok 123\n",
      "error '161' 147\n",
      "ok 70\n",
      "ok 39\n",
      "ok 122\n",
      "ok 100\n",
      "error '166' 193\n",
      "error '167' 54\n",
      "ok 151\n",
      "ok 103\n",
      "ok 129\n",
      "ok 233\n",
      "ok 57\n",
      "ok 102\n",
      "ok 139\n",
      "ok 63\n",
      "ok 198\n",
      "ok 37\n",
      "ok 40\n",
      "ok 67\n",
      "ok 163\n",
      "ok 162\n",
      "error [Errno 2] No such file or directory: 'data/NDVI_108.xlsx' 38\n",
      "ok 50\n",
      "ok 131\n",
      "ok 146\n",
      "error '187' 3\n",
      "error '188' 142\n",
      "error '189' 30\n",
      "ok 120\n",
      "ok 182\n",
      "ok 177\n",
      "ok 46\n",
      "error '194' 190\n",
      "error '195' 98\n",
      "ok 96\n",
      "ok 112\n",
      "ok 179\n",
      "ok 24\n",
      "error '200' 236\n",
      "error '201' 185\n",
      "error '202' 68\n",
      "error '203' 83\n",
      "error '205' 232\n",
      "error '206' 178\n",
      "error '207' 32\n",
      "error '208' 149\n",
      "error '209' 51\n",
      "error '210' 169\n",
      "error '211' 130\n",
      "error '212' 80\n",
      "error '213' 65\n",
      "error '215' 77\n",
      "error '216' 108\n"
     ]
    }
   ],
   "source": [
    "#!g1.1\n",
    "for field in fields:\n",
    "    try:\n",
    "        field_params, labels = data_load(fields[field][0])\n",
    "        fields_full = fields_full.append(field_params)\n",
    "        labels_full = np.append(labels_full, labels)\n",
    "        print('ok', field)\n",
    "    except Exception as ex:\n",
    "        print('error', ex, field)"
   ]
  },
  {
   "cell_type": "code",
   "execution_count": 780,
   "id": "7d611495",
   "metadata": {
    "cellId": "czk6fxowhy2gusjhp38u"
   },
   "outputs": [],
   "source": [
    "#!g1.1\n",
    "labels_full = tf.keras.utils.to_categorical(labels_full)"
   ]
  },
  {
   "cell_type": "code",
   "execution_count": 715,
   "id": "a92fbea3",
   "metadata": {
    "cellId": "gg3iuuoa1bmpdqj3rwdz3s"
   },
   "outputs": [],
   "source": [
    "#!g1.1\n",
    "fields_full_ten = tf.convert_to_tensor(fields_full)"
   ]
  },
  {
   "cell_type": "code",
   "execution_count": 781,
   "id": "da427de0",
   "metadata": {
    "cellId": "7jyatnzjl6kydvqr3l935"
   },
   "outputs": [],
   "source": [
    "#!g1.1\n",
    "from sklearn.model_selection import train_test_split\n",
    "\n",
    "train_fields, test_fields, train_labels, test_labels = train_test_split(fields_full, labels_full, test_size=0.09)\n",
    "train_fields, val_fields, train_labels, val_labels = train_test_split(train_fields, train_labels, test_size=0.015)"
   ]
  },
  {
   "cell_type": "code",
   "execution_count": 783,
   "id": "640501b5",
   "metadata": {
    "cellId": "hcit3g917p9zke9yps08v"
   },
   "outputs": [
    {
     "name": "stderr",
     "output_type": "stream",
     "text": [
      "/kernel/lib/python3.8/site-packages/ml_kernel/kernel.py:864: UserWarning: The following variables cannot be serialized: train_dataset, val_dataset\n",
      "  warnings.warn(message)\n"
     ]
    }
   ],
   "source": [
    "#!g1.1\n",
    "batch_size = 32\n",
    "\n",
    "train_dataset = tf.data.Dataset.from_tensor_slices((train_fields, train_labels))\n",
    "train_dataset = train_dataset.shuffle(buffer_size=1024, reshuffle_each_iteration=True).batch(batch_size)\n",
    "#train_dataset = train_dataset.prefetch(1)\n",
    "\n",
    "val_dataset = tf.data.Dataset.from_tensor_slices((val_fields, val_labels))\n",
    "val_dataset = val_dataset.batch(batch_size)\n",
    "#val_dataset = val_dataset.prefetch(1)"
   ]
  },
  {
   "cell_type": "code",
   "execution_count": 784,
   "id": "f8669383",
   "metadata": {
    "cellId": "0tkoyp91zpu1wl3viqo62d"
   },
   "outputs": [
    {
     "name": "stderr",
     "output_type": "stream",
     "text": [
      "/kernel/lib/python3.8/site-packages/ml_kernel/kernel.py:864: UserWarning: The following variables cannot be serialized: train_dataset, val_dataset\n",
      "  warnings.warn(message)\n"
     ]
    }
   ],
   "source": [
    "#!g1.1\n",
    "sample_x, sample_y = next(iter(train_dataset))"
   ]
  },
  {
   "cell_type": "code",
   "execution_count": 791,
   "id": "b97dfd2f",
   "metadata": {
    "cellId": "ea9boxio5fa6lomhrmozh"
   },
   "outputs": [
    {
     "name": "stdout",
     "output_type": "stream",
     "text": [
      "Model: \"sequential_1\"\n",
      "_________________________________________________________________\n",
      "Layer (type)                 Output Shape              Param #   \n",
      "=================================================================\n",
      "layer_4 (Dense)              (None, 64)                2304      \n",
      "_________________________________________________________________\n",
      "output (Dense)               (None, 10)                650       \n",
      "=================================================================\n",
      "Total params: 2,954\n",
      "Trainable params: 2,954\n",
      "Non-trainable params: 0\n",
      "_________________________________________________________________\n"
     ]
    }
   ],
   "source": [
    "#!g1.1\n",
    "from tensorflow.keras import layers\n",
    "\n",
    "\n",
    "# dense_model_2 = tf.keras.Sequential([\n",
    "#     tf.keras.layers.Input(shape=(37, ), name='Input_1'),\n",
    "#    # tf.keras.layers.Dropout(0.2),\n",
    "#     tf.keras.layers.Dense(2048, activation='relu', name='layer_1'),\n",
    "#     tf.keras.layers.Dropout(0.2),\n",
    "#     tf.keras.layers.BatchNormalization(),\n",
    "#     tf.keras.layers.Dense(512, activation='relu', name='layer_2'),\n",
    "#     tf.keras.layers.Dropout(0.1),\n",
    "#     tf.keras.layers.BatchNormalization(),\n",
    "#     tf.keras.layers.Dense(256, activation='relu', name='layer_3'),\n",
    "#     tf.keras.layers.Dropout(0.1),\n",
    "#     tf.keras.layers.BatchNormalization(),\n",
    "#     tf.keras.layers.Dense(64, activation='relu', name='layer_4'),\n",
    "#     tf.keras.layers.Dropout(0.1),\n",
    "#     tf.keras.layers.BatchNormalization(),\n",
    "#     tf.keras.layers.Dense(10, activation='softmax', name='output')\n",
    "# ])\n",
    "dense_model_1 = tf.keras.Sequential([\n",
    "    tf.keras.Input(shape=(35,)),\n",
    "    tf.keras.layers.Dense(64, activation='relu', name='layer_4'),\n",
    "    tf.keras.layers.Dense(10, name='output')\n",
    "])\n",
    "dense_model_1.compile(\n",
    "    optimizer='adam',\n",
    "    loss=tf.keras.losses.CategoricalCrossentropy(from_logits=True),\n",
    "    metrics=['accuracy'])\n",
    "dense_model_1.summary()"
   ]
  },
  {
   "cell_type": "code",
   "execution_count": 792,
   "id": "78c91826",
   "metadata": {
    "cellId": "amf8mg2aeollnjf9wvntv"
   },
   "outputs": [
    {
     "name": "stdout",
     "output_type": "stream",
     "text": [
      "tf.Tensor(\n",
      "[[0.21759024 0.20888889 0.2261198  ... 0.16858172 0.25650081 0.24898511]\n",
      " [0.29075024 0.28122297 0.30452555 ... 0.32824427 0.26946512 0.27666399]\n",
      " [0.1833728  0.16487455 0.17872117 ... 0.20810489 0.30481586 0.32692945]\n",
      " ...\n",
      " [0.19146578 0.21455224 0.17527719 ... 0.32198414 0.23113208 0.1944664 ]\n",
      " [0.24235739 0.25617284 0.29841897 ... 0.32340425 0.30986491 0.25173745]\n",
      " [0.24690945 0.24406992 0.25062814 ... 0.4509804  0.41999292 0.30534351]], shape=(32, 35), dtype=float64)\n",
      "tf.Tensor(\n",
      "[[0. 0. 0. 0. 0. 1. 0. 0. 0. 0.]\n",
      " [0. 0. 0. 0. 0. 0. 0. 1. 0. 0.]\n",
      " [1. 0. 0. 0. 0. 0. 0. 0. 0. 0.]\n",
      " [1. 0. 0. 0. 0. 0. 0. 0. 0. 0.]\n",
      " [0. 0. 0. 1. 0. 0. 0. 0. 0. 0.]\n",
      " [1. 0. 0. 0. 0. 0. 0. 0. 0. 0.]\n",
      " [0. 0. 0. 0. 1. 0. 0. 0. 0. 0.]\n",
      " [0. 1. 0. 0. 0. 0. 0. 0. 0. 0.]\n",
      " [1. 0. 0. 0. 0. 0. 0. 0. 0. 0.]\n",
      " [0. 0. 0. 0. 0. 0. 0. 1. 0. 0.]\n",
      " [1. 0. 0. 0. 0. 0. 0. 0. 0. 0.]\n",
      " [1. 0. 0. 0. 0. 0. 0. 0. 0. 0.]\n",
      " [0. 0. 0. 0. 1. 0. 0. 0. 0. 0.]\n",
      " [0. 1. 0. 0. 0. 0. 0. 0. 0. 0.]\n",
      " [1. 0. 0. 0. 0. 0. 0. 0. 0. 0.]\n",
      " [1. 0. 0. 0. 0. 0. 0. 0. 0. 0.]\n",
      " [0. 1. 0. 0. 0. 0. 0. 0. 0. 0.]\n",
      " [0. 1. 0. 0. 0. 0. 0. 0. 0. 0.]\n",
      " [0. 1. 0. 0. 0. 0. 0. 0. 0. 0.]\n",
      " [1. 0. 0. 0. 0. 0. 0. 0. 0. 0.]\n",
      " [1. 0. 0. 0. 0. 0. 0. 0. 0. 0.]\n",
      " [1. 0. 0. 0. 0. 0. 0. 0. 0. 0.]\n",
      " [1. 0. 0. 0. 0. 0. 0. 0. 0. 0.]\n",
      " [0. 0. 0. 0. 0. 1. 0. 0. 0. 0.]\n",
      " [0. 1. 0. 0. 0. 0. 0. 0. 0. 0.]\n",
      " [0. 1. 0. 0. 0. 0. 0. 0. 0. 0.]\n",
      " [1. 0. 0. 0. 0. 0. 0. 0. 0. 0.]\n",
      " [0. 0. 0. 0. 1. 0. 0. 0. 0. 0.]\n",
      " [1. 0. 0. 0. 0. 0. 0. 0. 0. 0.]\n",
      " [0. 1. 0. 0. 0. 0. 0. 0. 0. 0.]\n",
      " [0. 0. 0. 0. 0. 1. 0. 0. 0. 0.]\n",
      " [0. 1. 0. 0. 0. 0. 0. 0. 0. 0.]], shape=(32, 10), dtype=float32)\n",
      "[[-0.27892882 -0.17121807 -0.07029929  0.06694898  0.72216916  0.16882452\n",
      "   0.21811247  0.3853965  -0.12671037 -0.60735023]\n",
      " [-0.39049283 -0.23243189  0.02713427  0.2000221   0.8691181   0.15339643\n",
      "   0.12544864  0.34265316 -0.07388099 -0.69169927]\n",
      " [-0.31766477 -0.21477477 -0.03404133  0.1005054   0.8041239   0.15750512\n",
      "   0.14953536  0.34738547 -0.11948654 -0.6212964 ]\n",
      " [-0.29501802 -0.16715825 -0.09173038  0.13691439  0.7734452   0.24751309\n",
      "   0.1464378   0.38832358 -0.10373433 -0.6203739 ]\n",
      " [-0.27914017 -0.1147256  -0.08721229  0.15875742  0.7630956   0.2083506\n",
      "   0.04669839  0.38742733 -0.09736045 -0.58927095]\n",
      " [-0.3211291  -0.18823299 -0.02360172  0.08206078  0.71663916  0.19573411\n",
      "   0.2560891   0.30633134 -0.12252374 -0.5858034 ]\n",
      " [-0.29874188 -0.15152662 -0.02403814  0.08317601  0.6291435   0.31051165\n",
      "   0.17769842  0.32004553  0.11207005 -0.59132075]\n",
      " [-0.18667446 -0.14923315 -0.0265257   0.2051587   0.68479526  0.23741117\n",
      "   0.05130368  0.29367003 -0.1606286  -0.5924708 ]\n",
      " [-0.1711841  -0.2173472  -0.08064284  0.10739134  0.7085192   0.2815421\n",
      "   0.13331196  0.45696986 -0.15899147 -0.5499556 ]\n",
      " [-0.2950511  -0.1612752  -0.07308352  0.10932996  0.8188099   0.25262314\n",
      "   0.19157189  0.46709862 -0.11992773 -0.63528365]\n",
      " [-0.34553587 -0.21146479 -0.07471426  0.14369287  0.8297334   0.23782994\n",
      "   0.17883265  0.3960188  -0.13622421 -0.65989804]\n",
      " [-0.23201624 -0.12190808 -0.14574149  0.15071681  0.82286966  0.18399401\n",
      "   0.06451833  0.5005183  -0.09065609 -0.6208088 ]\n",
      " [-0.21755716 -0.11225052 -0.11071958  0.09363895  0.662374    0.26749253\n",
      "   0.11812344  0.33935606  0.01500469 -0.54967725]\n",
      " [-0.1287002  -0.09771819 -0.00934594  0.22884688  0.6258892   0.33119833\n",
      "   0.00770324  0.5034989  -0.17962505 -0.61643636]\n",
      " [-0.2827263  -0.1657278  -0.13880119  0.19103265  0.82301676  0.05210456\n",
      "   0.0432891   0.35388392 -0.17147586 -0.6604705 ]\n",
      " [-0.21714866 -0.18917951 -0.04235936  0.10554022  0.67914665  0.28439158\n",
      "   0.15568098  0.35734734 -0.145514   -0.57109886]\n",
      " [-0.22235258 -0.19270834  0.05476963  0.23165108  0.69808     0.24065997\n",
      "   0.03841734  0.44289327 -0.23267516 -0.58573234]\n",
      " [-0.34045815 -0.33618015  0.06638925  0.14011478  0.6280146   0.17635961\n",
      "   0.33679006  0.3477139  -0.27304488 -0.66701114]\n",
      " [-0.28178632 -0.09950538 -0.10655262  0.24102442  0.8473903   0.21127462\n",
      "   0.02061048  0.49097353 -0.17603526 -0.6221801 ]\n",
      " [-0.37632716 -0.18174544 -0.07472938  0.28080648  0.894597    0.04453715\n",
      "   0.1226247   0.36182982 -0.23913713 -0.6884327 ]\n",
      " [-0.32876506 -0.18467037 -0.04183761  0.13936423  0.79928863  0.21566838\n",
      "   0.17632261  0.37026727 -0.1176955  -0.627141  ]\n",
      " [-0.23623037 -0.11319384 -0.07233207  0.11707152  0.6967211   0.14525302\n",
      "   0.0825114   0.31228873  0.05045387 -0.57957053]\n",
      " [-0.31963426 -0.18343422 -0.06876884  0.18514386  0.778092    0.11733706\n",
      "   0.09375083  0.35010332 -0.14737007 -0.60627747]\n",
      " [-0.36710638 -0.18783182 -0.067405    0.2056086   0.8860179   0.15601003\n",
      "   0.17229787  0.39802414 -0.1778109  -0.6720384 ]\n",
      " [-0.1306481  -0.14456291 -0.01661142  0.22754104  0.605366    0.3662676\n",
      "   0.01053023  0.3987759  -0.131867   -0.59646523]\n",
      " [-0.19786423 -0.11832012 -0.00889493  0.2731046   0.68622375  0.32894108\n",
      "   0.0224857   0.45676708 -0.18646084 -0.5826526 ]\n",
      " [-0.35510582 -0.12467857 -0.12273911  0.26509306  0.86091757 -0.04919052\n",
      "  -0.01793356  0.38080817 -0.18401375 -0.66440856]\n",
      " [-0.25298318 -0.23594144 -0.00413536  0.06542542  0.72997713  0.15500031\n",
      "   0.06996905  0.41065365  0.12175228 -0.60597026]\n",
      " [-0.300867   -0.18887344 -0.01937876  0.09080958  0.68594444  0.21097432\n",
      "   0.19857392  0.31360316 -0.1077282  -0.5763649 ]\n",
      " [-0.21705754 -0.09497593 -0.04036076  0.13522695  0.5526707   0.10546487\n",
      "   0.03557301  0.33886367 -0.12070186 -0.4430529 ]\n",
      " [-0.30252123 -0.143841   -0.09578282  0.09311007  0.6901457   0.12573746\n",
      "   0.1531015   0.3111318  -0.05163507 -0.59144115]\n",
      " [-0.23664334 -0.03971638  0.0094125   0.300812    0.7657963   0.29127854\n",
      "   0.05143832  0.58438253 -0.18066545 -0.69172263]]\n",
      "(32, 10) (32, 10)\n"
     ]
    },
    {
     "data": {
      "text/plain": [
       "11.171304"
      ]
     },
     "execution_count": 792,
     "metadata": {},
     "output_type": "execute_result"
    },
    {
     "name": "stderr",
     "output_type": "stream",
     "text": [
      "/kernel/lib/python3.8/site-packages/ml_kernel/kernel.py:864: UserWarning: The following variables cannot be serialized: train_dataset, val_dataset\n",
      "  warnings.warn(message)\n"
     ]
    }
   ],
   "source": [
    "#!g1.1\n",
    "sample_x, sample_y = next(iter(train_dataset))\n",
    "print(sample_x)\n",
    "print(sample_y)\n",
    "print(dense_model_1.predict(sample_x))\n",
    "print(sample_y.shape, dense_model_1.predict(sample_x).shape)\n",
    "tt = tf.keras.losses.CategoricalCrossentropy()\n",
    "tt(\n",
    "    sample_y, dense_model_1.predict(sample_x)\n",
    ").numpy()"
   ]
  },
  {
   "cell_type": "code",
   "execution_count": 787,
   "id": "0d5506a4",
   "metadata": {
    "cellId": "f7u4k54prg8q5kcum2knr"
   },
   "outputs": [],
   "source": [
    "#!g1.1\n",
    "from livelossplot import PlotLossesKeras"
   ]
  },
  {
   "cell_type": "code",
   "execution_count": 788,
   "id": "4541a417",
   "metadata": {
    "cellId": "65qav3xmfvesatqcd13p3h"
   },
   "outputs": [
    {
     "data": {
      "image/png": "[encoded data removed]",
      "text/plain": [
       "<Figure size 864x576 with 2 Axes>"
      ]
     },
     "metadata": {
      "needs_background": "light"
     },
     "output_type": "display_data"
    },
    {
     "name": "stdout",
     "output_type": "stream",
     "text": [
      "accuracy\n",
      "\ttraining         \t (min:    0.446, max:    0.447, cur:    0.447)\n",
      "\tvalidation       \t (min:    0.450, max:    0.450, cur:    0.450)\n",
      "Loss\n",
      "\ttraining         \t (min:      nan, max:      nan, cur:      nan)\n",
      "\tvalidation       \t (min:      nan, max:      nan, cur:      nan)\n"
     ]
    },
    {
     "ename": "KeyboardInterrupt",
     "evalue": "",
     "output_type": "error",
     "traceback": [
      "\u001b[0;31m---------------------------------------------------------------------------\u001b[0m",
      "\u001b[0;31mKeyboardInterrupt\u001b[0m                         Traceback (most recent call last)",
      "\u001b[0;32m<ipython-input-11-bbb5c7faf991>\u001b[0m in \u001b[0;36m<module>\u001b[0;34m\u001b[0m\n\u001b[0;32m----> 1\u001b[0;31m \u001b[0mdense_model_1_history\u001b[0m \u001b[0;34m=\u001b[0m \u001b[0mdense_model_1\u001b[0m\u001b[0;34m.\u001b[0m\u001b[0mfit\u001b[0m\u001b[0;34m(\u001b[0m\u001b[0mtrain_dataset\u001b[0m\u001b[0;34m,\u001b[0m \u001b[0mvalidation_data\u001b[0m\u001b[0;34m=\u001b[0m\u001b[0mval_dataset\u001b[0m\u001b[0;34m,\u001b[0m \u001b[0mepochs\u001b[0m\u001b[0;34m=\u001b[0m\u001b[0;36m100\u001b[0m\u001b[0;34m,\u001b[0m \u001b[0mcallbacks\u001b[0m\u001b[0;34m=\u001b[0m\u001b[0;34m[\u001b[0m\u001b[0mPlotLossesKeras\u001b[0m\u001b[0;34m(\u001b[0m\u001b[0;34m)\u001b[0m\u001b[0;34m]\u001b[0m\u001b[0;34m,\u001b[0m \u001b[0mverbose\u001b[0m\u001b[0;34m=\u001b[0m\u001b[0;32mFalse\u001b[0m\u001b[0;34m)\u001b[0m\u001b[0;34m\u001b[0m\u001b[0;34m\u001b[0m\u001b[0m\n\u001b[0m\u001b[1;32m      2\u001b[0m \u001b[0;31m#\u001b[0m\u001b[0;34m\u001b[0m\u001b[0;34m\u001b[0m\u001b[0;34m\u001b[0m\u001b[0m\n",
      "\u001b[0;32m/usr/local/lib/python3.8/dist-packages/keras/engine/training.py\u001b[0m in \u001b[0;36mfit\u001b[0;34m(self, x, y, batch_size, epochs, verbose, callbacks, validation_split, validation_data, shuffle, class_weight, sample_weight, initial_epoch, steps_per_epoch, validation_steps, validation_batch_size, validation_freq, max_queue_size, workers, use_multiprocessing)\u001b[0m\n\u001b[1;32m   1182\u001b[0m                 _r=1):\n\u001b[1;32m   1183\u001b[0m               \u001b[0mcallbacks\u001b[0m\u001b[0;34m.\u001b[0m\u001b[0mon_train_batch_begin\u001b[0m\u001b[0;34m(\u001b[0m\u001b[0mstep\u001b[0m\u001b[0;34m)\u001b[0m\u001b[0;34m\u001b[0m\u001b[0;34m\u001b[0m\u001b[0m\n\u001b[0;32m-> 1184\u001b[0;31m               \u001b[0mtmp_logs\u001b[0m \u001b[0;34m=\u001b[0m \u001b[0mself\u001b[0m\u001b[0;34m.\u001b[0m\u001b[0mtrain_function\u001b[0m\u001b[0;34m(\u001b[0m\u001b[0miterator\u001b[0m\u001b[0;34m)\u001b[0m\u001b[0;34m\u001b[0m\u001b[0;34m\u001b[0m\u001b[0m\n\u001b[0m\u001b[1;32m   1185\u001b[0m               \u001b[0;32mif\u001b[0m \u001b[0mdata_handler\u001b[0m\u001b[0;34m.\u001b[0m\u001b[0mshould_sync\u001b[0m\u001b[0;34m:\u001b[0m\u001b[0;34m\u001b[0m\u001b[0;34m\u001b[0m\u001b[0m\n\u001b[1;32m   1186\u001b[0m                 \u001b[0mcontext\u001b[0m\u001b[0;34m.\u001b[0m\u001b[0masync_wait\u001b[0m\u001b[0;34m(\u001b[0m\u001b[0;34m)\u001b[0m\u001b[0;34m\u001b[0m\u001b[0;34m\u001b[0m\u001b[0m\n",
      "\u001b[0;32m/usr/local/lib/python3.8/dist-packages/tensorflow/python/eager/def_function.py\u001b[0m in \u001b[0;36m__call__\u001b[0;34m(self, *args, **kwds)\u001b[0m\n\u001b[1;32m    883\u001b[0m \u001b[0;34m\u001b[0m\u001b[0m\n\u001b[1;32m    884\u001b[0m       \u001b[0;32mwith\u001b[0m \u001b[0mOptionalXlaContext\u001b[0m\u001b[0;34m(\u001b[0m\u001b[0mself\u001b[0m\u001b[0;34m.\u001b[0m\u001b[0m_jit_compile\u001b[0m\u001b[0;34m)\u001b[0m\u001b[0;34m:\u001b[0m\u001b[0;34m\u001b[0m\u001b[0;34m\u001b[0m\u001b[0m\n\u001b[0;32m--> 885\u001b[0;31m         \u001b[0mresult\u001b[0m \u001b[0;34m=\u001b[0m \u001b[0mself\u001b[0m\u001b[0;34m.\u001b[0m\u001b[0m_call\u001b[0m\u001b[0;34m(\u001b[0m\u001b[0;34m*\u001b[0m\u001b[0margs\u001b[0m\u001b[0;34m,\u001b[0m \u001b[0;34m**\u001b[0m\u001b[0mkwds\u001b[0m\u001b[0;34m)\u001b[0m\u001b[0;34m\u001b[0m\u001b[0;34m\u001b[0m\u001b[0m\n\u001b[0m\u001b[1;32m    886\u001b[0m \u001b[0;34m\u001b[0m\u001b[0m\n\u001b[1;32m    887\u001b[0m       \u001b[0mnew_tracing_count\u001b[0m \u001b[0;34m=\u001b[0m \u001b[0mself\u001b[0m\u001b[0;34m.\u001b[0m\u001b[0mexperimental_get_tracing_count\u001b[0m\u001b[0;34m(\u001b[0m\u001b[0;34m)\u001b[0m\u001b[0;34m\u001b[0m\u001b[0;34m\u001b[0m\u001b[0m\n",
      "\u001b[0;32m/usr/local/lib/python3.8/dist-packages/tensorflow/python/eager/def_function.py\u001b[0m in \u001b[0;36m_call\u001b[0;34m(self, *args, **kwds)\u001b[0m\n\u001b[1;32m    915\u001b[0m       \u001b[0;31m# In this case we have created variables on the first call, so we run the\u001b[0m\u001b[0;34m\u001b[0m\u001b[0;34m\u001b[0m\u001b[0;34m\u001b[0m\u001b[0m\n\u001b[1;32m    916\u001b[0m       \u001b[0;31m# defunned version which is guaranteed to never create variables.\u001b[0m\u001b[0;34m\u001b[0m\u001b[0;34m\u001b[0m\u001b[0;34m\u001b[0m\u001b[0m\n\u001b[0;32m--> 917\u001b[0;31m       \u001b[0;32mreturn\u001b[0m \u001b[0mself\u001b[0m\u001b[0;34m.\u001b[0m\u001b[0m_stateless_fn\u001b[0m\u001b[0;34m(\u001b[0m\u001b[0;34m*\u001b[0m\u001b[0margs\u001b[0m\u001b[0;34m,\u001b[0m \u001b[0;34m**\u001b[0m\u001b[0mkwds\u001b[0m\u001b[0;34m)\u001b[0m  \u001b[0;31m# pylint: disable=not-callable\u001b[0m\u001b[0;34m\u001b[0m\u001b[0;34m\u001b[0m\u001b[0m\n\u001b[0m\u001b[1;32m    918\u001b[0m     \u001b[0;32melif\u001b[0m \u001b[0mself\u001b[0m\u001b[0;34m.\u001b[0m\u001b[0m_stateful_fn\u001b[0m \u001b[0;32mis\u001b[0m \u001b[0;32mnot\u001b[0m \u001b[0;32mNone\u001b[0m\u001b[0;34m:\u001b[0m\u001b[0;34m\u001b[0m\u001b[0;34m\u001b[0m\u001b[0m\n\u001b[1;32m    919\u001b[0m       \u001b[0;31m# Release the lock early so that multiple threads can perform the call\u001b[0m\u001b[0;34m\u001b[0m\u001b[0;34m\u001b[0m\u001b[0;34m\u001b[0m\u001b[0m\n",
      "\u001b[0;32m/usr/local/lib/python3.8/dist-packages/tensorflow/python/eager/function.py\u001b[0m in \u001b[0;36m__call__\u001b[0;34m(self, *args, **kwargs)\u001b[0m\n\u001b[1;32m   3037\u001b[0m       (graph_function,\n\u001b[1;32m   3038\u001b[0m        filtered_flat_args) = self._maybe_define_function(args, kwargs)\n\u001b[0;32m-> 3039\u001b[0;31m     return graph_function._call_flat(\n\u001b[0m\u001b[1;32m   3040\u001b[0m         filtered_flat_args, captured_inputs=graph_function.captured_inputs)  # pylint: disable=protected-access\n\u001b[1;32m   3041\u001b[0m \u001b[0;34m\u001b[0m\u001b[0m\n",
      "\u001b[0;32m/usr/local/lib/python3.8/dist-packages/tensorflow/python/eager/function.py\u001b[0m in \u001b[0;36m_call_flat\u001b[0;34m(self, args, captured_inputs, cancellation_manager)\u001b[0m\n\u001b[1;32m   1961\u001b[0m         and executing_eagerly):\n\u001b[1;32m   1962\u001b[0m       \u001b[0;31m# No tape is watching; skip to running the function.\u001b[0m\u001b[0;34m\u001b[0m\u001b[0;34m\u001b[0m\u001b[0;34m\u001b[0m\u001b[0m\n\u001b[0;32m-> 1963\u001b[0;31m       return self._build_call_outputs(self._inference_function.call(\n\u001b[0m\u001b[1;32m   1964\u001b[0m           ctx, args, cancellation_manager=cancellation_manager))\n\u001b[1;32m   1965\u001b[0m     forward_backward = self._select_forward_and_backward_functions(\n",
      "\u001b[0;32m/usr/local/lib/python3.8/dist-packages/tensorflow/python/eager/function.py\u001b[0m in \u001b[0;36mcall\u001b[0;34m(self, ctx, args, cancellation_manager)\u001b[0m\n\u001b[1;32m    589\u001b[0m       \u001b[0;32mwith\u001b[0m \u001b[0m_InterpolateFunctionError\u001b[0m\u001b[0;34m(\u001b[0m\u001b[0mself\u001b[0m\u001b[0;34m)\u001b[0m\u001b[0;34m:\u001b[0m\u001b[0;34m\u001b[0m\u001b[0;34m\u001b[0m\u001b[0m\n\u001b[1;32m    590\u001b[0m         \u001b[0;32mif\u001b[0m \u001b[0mcancellation_manager\u001b[0m \u001b[0;32mis\u001b[0m \u001b[0;32mNone\u001b[0m\u001b[0;34m:\u001b[0m\u001b[0;34m\u001b[0m\u001b[0;34m\u001b[0m\u001b[0m\n\u001b[0;32m--> 591\u001b[0;31m           outputs = execute.execute(\n\u001b[0m\u001b[1;32m    592\u001b[0m               \u001b[0mstr\u001b[0m\u001b[0;34m(\u001b[0m\u001b[0mself\u001b[0m\u001b[0;34m.\u001b[0m\u001b[0msignature\u001b[0m\u001b[0;34m.\u001b[0m\u001b[0mname\u001b[0m\u001b[0;34m)\u001b[0m\u001b[0;34m,\u001b[0m\u001b[0;34m\u001b[0m\u001b[0;34m\u001b[0m\u001b[0m\n\u001b[1;32m    593\u001b[0m               \u001b[0mnum_outputs\u001b[0m\u001b[0;34m=\u001b[0m\u001b[0mself\u001b[0m\u001b[0;34m.\u001b[0m\u001b[0m_num_outputs\u001b[0m\u001b[0;34m,\u001b[0m\u001b[0;34m\u001b[0m\u001b[0;34m\u001b[0m\u001b[0m\n",
      "\u001b[0;32m/usr/local/lib/python3.8/dist-packages/tensorflow/python/eager/execute.py\u001b[0m in \u001b[0;36mquick_execute\u001b[0;34m(op_name, num_outputs, inputs, attrs, ctx, name)\u001b[0m\n\u001b[1;32m     57\u001b[0m   \u001b[0;32mtry\u001b[0m\u001b[0;34m:\u001b[0m\u001b[0;34m\u001b[0m\u001b[0;34m\u001b[0m\u001b[0m\n\u001b[1;32m     58\u001b[0m     \u001b[0mctx\u001b[0m\u001b[0;34m.\u001b[0m\u001b[0mensure_initialized\u001b[0m\u001b[0;34m(\u001b[0m\u001b[0;34m)\u001b[0m\u001b[0;34m\u001b[0m\u001b[0;34m\u001b[0m\u001b[0m\n\u001b[0;32m---> 59\u001b[0;31m     tensors = pywrap_tfe.TFE_Py_Execute(ctx._handle, device_name, op_name,\n\u001b[0m\u001b[1;32m     60\u001b[0m                                         inputs, attrs, num_outputs)\n\u001b[1;32m     61\u001b[0m   \u001b[0;32mexcept\u001b[0m \u001b[0mcore\u001b[0m\u001b[0;34m.\u001b[0m\u001b[0m_NotOkStatusException\u001b[0m \u001b[0;32mas\u001b[0m \u001b[0me\u001b[0m\u001b[0;34m:\u001b[0m\u001b[0;34m\u001b[0m\u001b[0;34m\u001b[0m\u001b[0m\n",
      "\u001b[0;31mKeyboardInterrupt\u001b[0m: "
     ]
    },
    {
     "name": "stderr",
     "output_type": "stream",
     "text": [
      "/kernel/lib/python3.8/site-packages/ml_kernel/kernel.py:864: UserWarning: The following variables cannot be serialized: train_dataset, val_dataset\n",
      "  warnings.warn(message)\n"
     ]
    }
   ],
   "source": [
    "#!g1.1\n",
    "dense_model_1_history = dense_model_1.fit(train_dataset, validation_data=val_dataset, epochs=50, callbacks=[PlotLossesKeras()], verbose=False)"
   ]
  },
  {
   "cell_type": "code",
   "execution_count": null,
   "id": "2d1d7f17",
   "metadata": {
    "cellId": "80djl3g11b3joamfs2byx"
   },
   "outputs": [],
   "source": [
    "#!g1.1\n",
    "\n",
    "import tensorflow.keras.backend as K\n",
    "s = np.array([0.26759532, 0.24501145, 0.29077518, 0.46137184,\n",
    "        0.49968573, 0.62341863, 0.74873298, 0.79528433, 0.78950748,\n",
    "        0.78373063, 0.80844766, 0.86345834, 0.80966842, 0.50896311,\n",
    "        0.84554458, 0.75138491, 0.77696827, 0.80255163, 0.72150511,\n",
    "        0.78021979, 0.77437407, 0.76066846, 0.74198252, 0.71617162,\n",
    "        0.73163691, 0.7471022 , 0.70007479, 0.65378672, 0.59233016,\n",
    "        0.52363467, 0.46852517, 0.46243024, 0.4334081 , 0.40438595,\n",
    "        0.44469026])\n",
    "# s = K.constant(s)\n",
    "# s = tf.transpose(s)\n",
    "print(s.shape)\n",
    "#s = s.reshape(-1, 37)\n",
    "print(s)\n",
    "dense_model_1.predict(t)"
   ]
  },
  {
   "cell_type": "code",
   "execution_count": 568,
   "id": "0d72f97d",
   "metadata": {
    "cellId": "vgupoihwjwisb0r7raqzl"
   },
   "outputs": [],
   "source": [
    "#!g1.1\n"
   ]
  }
 ],
 "metadata": {
  "kernelspec": {
   "display_name": "Yandex DataSphere Kernel",
   "language": "python",
   "name": "python3"
  },
  "language_info": {
   "codemirror_mode": {
    "name": "ipython",
    "version": 3
   },
   "file_extension": ".py",
   "mimetype": "text/x-python",
   "name": "python",
   "nbconvert_exporter": "python",
   "pygments_lexer": "ipython3",
   "version": "3.7.7"
  },
  "notebookId": "eb2a8a52-5068-468e-bcce-dc825df98190",
  "notebookPath": "Untitled.ipynb"
 },
 "nbformat": 4,
 "nbformat_minor": 5
}
